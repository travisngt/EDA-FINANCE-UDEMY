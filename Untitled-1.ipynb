{
 "cells": [
  {
   "cell_type": "code",
   "execution_count": 12,
   "metadata": {},
   "outputs": [],
   "source": [
    "import pandas as pd\n",
    "import numpy as np\n",
    "import seaborn as sns\n",
    "import matplotlib.pyplot as mb"
   ]
  },
  {
   "cell_type": "code",
   "execution_count": 5,
   "metadata": {},
   "outputs": [],
   "source": [
    "import warnings\n",
    "warnings.filterwarnings('ignore')"
   ]
  },
  {
   "cell_type": "code",
   "execution_count": 17,
   "metadata": {},
   "outputs": [
    {
     "name": "stdout",
     "output_type": "stream",
     "text": [
      "<class 'pandas.core.frame.DataFrame'>\n",
      "RangeIndex: 13608 entries, 0 to 13607\n",
      "Data columns (total 20 columns):\n",
      " #   Column                        Non-Null Count  Dtype  \n",
      "---  ------                        --------------  -----  \n",
      " 0   id                            13608 non-null  int64  \n",
      " 1   title                         13608 non-null  object \n",
      " 2   url                           13608 non-null  object \n",
      " 3   is_paid                       13608 non-null  bool   \n",
      " 4   num_subscribers               13608 non-null  int64  \n",
      " 5   avg_rating                    13608 non-null  float64\n",
      " 6   avg_rating_recent             13608 non-null  float64\n",
      " 7   rating                        13608 non-null  float64\n",
      " 8   num_reviews                   13608 non-null  int64  \n",
      " 9   is_wishlisted                 13608 non-null  bool   \n",
      " 10  num_published_lectures        13608 non-null  int64  \n",
      " 11  num_published_practice_tests  13608 non-null  int64  \n",
      " 12  created                       13608 non-null  object \n",
      " 13  published_time                13608 non-null  object \n",
      " 14  discount_price__amount        12205 non-null  float64\n",
      " 15  discount_price__currency      12205 non-null  object \n",
      " 16  discount_price__price_string  12205 non-null  object \n",
      " 17  price_detail__amount          13111 non-null  float64\n",
      " 18  price_detail__currency        13111 non-null  object \n",
      " 19  price_detail__price_string    13111 non-null  object \n",
      "dtypes: bool(2), float64(5), int64(5), object(8)\n",
      "memory usage: 1.9+ MB\n"
     ]
    }
   ],
   "source": [
    "df = pd.read_csv (r\"/Users/macbook/Downloads/udemy_output_All_Finance__Accounting_p1_p626.csv\")\n",
    "df.info()"
   ]
  },
  {
   "cell_type": "code",
   "execution_count": 2,
   "metadata": {},
   "outputs": [
    {
     "ename": "NameError",
     "evalue": "name 'df' is not defined",
     "output_type": "error",
     "traceback": [
      "\u001b[0;31m---------------------------------------------------------------------------\u001b[0m",
      "\u001b[0;31mNameError\u001b[0m                                 Traceback (most recent call last)",
      "\u001b[0;32m/var/folders/zz/pczv0m5s08d53hwblvzt4w6w0000gn/T/ipykernel_79676/1298453616.py\u001b[0m in \u001b[0;36m<module>\u001b[0;34m\u001b[0m\n\u001b[0;32m----> 1\u001b[0;31m \u001b[0mdf_missing_values\u001b[0m \u001b[0;34m=\u001b[0m \u001b[0mdf\u001b[0m\u001b[0;34m.\u001b[0m\u001b[0misnull\u001b[0m\u001b[0;34m(\u001b[0m\u001b[0;34m)\u001b[0m\u001b[0;34m.\u001b[0m\u001b[0msum\u001b[0m\u001b[0;34m(\u001b[0m\u001b[0;34m)\u001b[0m\u001b[0;34m\u001b[0m\u001b[0;34m\u001b[0m\u001b[0m\n\u001b[0m\u001b[1;32m      2\u001b[0m \u001b[0mprint\u001b[0m \u001b[0;34m(\u001b[0m\u001b[0mdf_missing_values\u001b[0m\u001b[0;34m)\u001b[0m\u001b[0;34m\u001b[0m\u001b[0;34m\u001b[0m\u001b[0m\n",
      "\u001b[0;31mNameError\u001b[0m: name 'df' is not defined"
     ]
    }
   ],
   "source": [
    "df_missing_values = df.isnull().sum()\n",
    "print (df_missing_values)"
   ]
  }
 ],
 "metadata": {
  "kernelspec": {
   "display_name": "base",
   "language": "python",
   "name": "python3"
  },
  "language_info": {
   "codemirror_mode": {
    "name": "ipython",
    "version": 3
   },
   "file_extension": ".py",
   "mimetype": "text/x-python",
   "name": "python",
   "nbconvert_exporter": "python",
   "pygments_lexer": "ipython3",
   "version": "3.9.13"
  },
  "orig_nbformat": 4
 },
 "nbformat": 4,
 "nbformat_minor": 2
}
